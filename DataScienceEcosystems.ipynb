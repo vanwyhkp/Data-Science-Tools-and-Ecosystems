{
 "cells": [
  {
   "cell_type": "markdown",
   "id": "05b59685-8040-46d8-b70f-2bed455348c3",
   "metadata": {
    "tags": []
   },
   "source": [
    "# Data Science Tools and Ecosystems"
   ]
  },
  {
   "cell_type": "markdown",
   "id": "230da00e-7d2e-4bc6-87f1-9aa3937d2191",
   "metadata": {},
   "source": [
    "## Author\n",
    "Kyle Van Wyhe"
   ]
  },
  {
   "cell_type": "markdown",
   "id": "237e35a4-a345-402b-b36f-cf5d93431ac2",
   "metadata": {},
   "source": [
    "In this notebook, data science tools and ecosystems are summarized. This notebook is the culminating practical exercise for this Coursera course."
   ]
  },
  {
   "cell_type": "markdown",
   "id": "fe4485b3-edb5-430f-bb13-c103265e36a9",
   "metadata": {},
   "source": [
    "**Objectives:**\n",
    "* List popular languages for data science\n",
    "* List libraries commonly used in data science\n",
    "* Evaluate arithmetic expressions in a Jupyter notebook"
   ]
  },
  {
   "cell_type": "markdown",
   "id": "6d66e46c-cd06-4efb-9285-32440bbdfdfa",
   "metadata": {},
   "source": [
    "Some of the popular languages that Data Scientists use are:\n",
    "1. Python\n",
    "2. SQL\n",
    "3. R\n",
    "4. VBA\n",
    "5. JavaScript"
   ]
  },
  {
   "cell_type": "markdown",
   "id": "d14354f3-d36a-4f3a-b801-f99e37d42548",
   "metadata": {},
   "source": [
    "Some of the commonly used libraries of Data Scientists include:"
   ]
  },
  {
   "cell_type": "markdown",
   "id": "a16a9ecd-154c-4294-b4f1-967f4b28400c",
   "metadata": {},
   "source": [
    "1. NumPy\n",
    "2. Matplotlib\n",
    "3. TensorFlow\n",
    "4. Pandas\n",
    "5. Keras"
   ]
  },
  {
   "cell_type": "markdown",
   "id": "31223d13-feb8-497a-b16f-6f45cc0507b8",
   "metadata": {},
   "source": [
    "| Data Science Tools |\n",
    "| -----------|\n",
    "|RStudio|\n",
    "|Apache Spark|\n",
    "|TensorFlow|\n",
    "|Apache Hadoop|"
   ]
  },
  {
   "cell_type": "markdown",
   "id": "c3fd03ee-f6a0-4c3a-bd29-f26a5443bdc7",
   "metadata": {},
   "source": [
    "### Below are a few examples of evaluating arithmetic expressions in Python."
   ]
  },
  {
   "cell_type": "code",
   "execution_count": 1,
   "id": "63496813-6f64-4ef6-8e6d-4e79614fb43b",
   "metadata": {
    "tags": []
   },
   "outputs": [
    {
     "data": {
      "text/plain": [
       "17"
      ]
     },
     "execution_count": 1,
     "metadata": {},
     "output_type": "execute_result"
    }
   ],
   "source": [
    "# This is a simple arithmetic expression to multiply then add integers.\n",
    "\n",
    "(3*4)+5"
   ]
  },
  {
   "cell_type": "code",
   "execution_count": 8,
   "id": "c352089b-ac15-4b8e-bcba-2ac6f48b1ac8",
   "metadata": {
    "tags": []
   },
   "outputs": [
    {
     "data": {
      "text/plain": [
       "3.3333333333333335"
      ]
     },
     "execution_count": 8,
     "metadata": {},
     "output_type": "execute_result"
    }
   ],
   "source": [
    "# This will convert 200 minutes to hours by dividing by 60.\n",
    "\n",
    "200/60"
   ]
  },
  {
   "cell_type": "markdown",
   "id": "6fec0e8a-eb72-41cc-9a77-e9c77a70fae7",
   "metadata": {},
   "source": []
  }
 ],
 "metadata": {
  "kernelspec": {
   "display_name": "Python",
   "language": "python",
   "name": "conda-env-python-py"
  },
  "language_info": {
   "codemirror_mode": {
    "name": "ipython",
    "version": 3
   },
   "file_extension": ".py",
   "mimetype": "text/x-python",
   "name": "python",
   "nbconvert_exporter": "python",
   "pygments_lexer": "ipython3",
   "version": "3.7.12"
  }
 },
 "nbformat": 4,
 "nbformat_minor": 5
}
